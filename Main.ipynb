{
 "cells": [
  {
   "cell_type": "code",
   "execution_count": 96,
   "outputs": [],
   "source": [
    "import pandas as pd\n",
    "import numpy as np\n",
    "import matplotlib.pyplot as plt\n",
    "from sklearn.cluster import KMeans"
   ],
   "metadata": {
    "collapsed": false,
    "pycharm": {
     "name": "#%%\n"
    }
   }
  },
  {
   "cell_type": "code",
   "execution_count": 97,
   "outputs": [],
   "source": [
    "im = pd.read_csv(\"Datasets/immigrants.csv\", skiprows=14, nrows=215)\n",
    "im.columns=['Birthplace', '1980-1990', '1991-2000', '2001-2010', '2011-2021']"
   ],
   "metadata": {
    "collapsed": false,
    "pycharm": {
     "name": "#%%\n"
    }
   }
  },
  {
   "cell_type": "code",
   "execution_count": 98,
   "outputs": [
    {
     "data": {
      "text/plain": "                        Birthplace 1980-1990 1991-2000 2001-2010 2011-2021\n0                      Afghanistan      3920     14745     22280     21340\n1                          Albania        15      4130      8000      5500\n2                          Algeria      1345     11745     32430     32580\n3                          Andorra         0         0         0        30\n4                           Angola       415       390      1315       580\n..                             ...       ...       ...       ...       ...\n195  Virgin Islands, United States        10         0        20        15\n196       West Bank and Gaza Strip      1065      1930      2375      2620\n197                          Yemen       120       785      1120      2570\n198                         Zambia       480       685       780       845\n199                       Zimbabwe       965       985      5225      3850\n\n[200 rows x 5 columns]",
      "text/html": "<div>\n<style scoped>\n    .dataframe tbody tr th:only-of-type {\n        vertical-align: middle;\n    }\n\n    .dataframe tbody tr th {\n        vertical-align: top;\n    }\n\n    .dataframe thead th {\n        text-align: right;\n    }\n</style>\n<table border=\"1\" class=\"dataframe\">\n  <thead>\n    <tr style=\"text-align: right;\">\n      <th></th>\n      <th>Birthplace</th>\n      <th>1980-1990</th>\n      <th>1991-2000</th>\n      <th>2001-2010</th>\n      <th>2011-2021</th>\n    </tr>\n  </thead>\n  <tbody>\n    <tr>\n      <th>0</th>\n      <td>Afghanistan</td>\n      <td>3920</td>\n      <td>14745</td>\n      <td>22280</td>\n      <td>21340</td>\n    </tr>\n    <tr>\n      <th>1</th>\n      <td>Albania</td>\n      <td>15</td>\n      <td>4130</td>\n      <td>8000</td>\n      <td>5500</td>\n    </tr>\n    <tr>\n      <th>2</th>\n      <td>Algeria</td>\n      <td>1345</td>\n      <td>11745</td>\n      <td>32430</td>\n      <td>32580</td>\n    </tr>\n    <tr>\n      <th>3</th>\n      <td>Andorra</td>\n      <td>0</td>\n      <td>0</td>\n      <td>0</td>\n      <td>30</td>\n    </tr>\n    <tr>\n      <th>4</th>\n      <td>Angola</td>\n      <td>415</td>\n      <td>390</td>\n      <td>1315</td>\n      <td>580</td>\n    </tr>\n    <tr>\n      <th>...</th>\n      <td>...</td>\n      <td>...</td>\n      <td>...</td>\n      <td>...</td>\n      <td>...</td>\n    </tr>\n    <tr>\n      <th>195</th>\n      <td>Virgin Islands, United States</td>\n      <td>10</td>\n      <td>0</td>\n      <td>20</td>\n      <td>15</td>\n    </tr>\n    <tr>\n      <th>196</th>\n      <td>West Bank and Gaza Strip</td>\n      <td>1065</td>\n      <td>1930</td>\n      <td>2375</td>\n      <td>2620</td>\n    </tr>\n    <tr>\n      <th>197</th>\n      <td>Yemen</td>\n      <td>120</td>\n      <td>785</td>\n      <td>1120</td>\n      <td>2570</td>\n    </tr>\n    <tr>\n      <th>198</th>\n      <td>Zambia</td>\n      <td>480</td>\n      <td>685</td>\n      <td>780</td>\n      <td>845</td>\n    </tr>\n    <tr>\n      <th>199</th>\n      <td>Zimbabwe</td>\n      <td>965</td>\n      <td>985</td>\n      <td>5225</td>\n      <td>3850</td>\n    </tr>\n  </tbody>\n</table>\n<p>200 rows × 5 columns</p>\n</div>"
     },
     "execution_count": 98,
     "metadata": {},
     "output_type": "execute_result"
    }
   ],
   "source": [
    "for i in range(len(im)):\n",
    "    if im['Birthplace'][i][-2:].isdigit():\n",
    "        im['Birthplace'][i] = im['Birthplace'][i][0:-3]\n",
    "    if im['Birthplace'][i][-1].isdigit():\n",
    "        im['Birthplace'][i] = im['Birthplace'][i][0:-2]\n",
    "\n",
    "    im['1980-1990'][i] = int(im['1980-1990'][i].replace(',', ''))\n",
    "    im['1991-2000'][i] = int(im['1991-2000'][i].replace(',', ''))\n",
    "    im['2001-2010'][i] = int(im['2001-2010'][i].replace(',', ''))\n",
    "    im['2011-2021'][i] = int(im['2011-2021'][i].replace(',', ''))\n",
    "    if im['1980-1990'][i] == 0 and im['1991-2000'][i] == 0 and im['2001-2010'][i] == 0 and im['2011-2021'][i] == 0:\n",
    "        im=im.drop(labels=i)\n",
    "im = im.sort_values(by=['Birthplace'])\n",
    "im.reset_index(drop=True, inplace=True)\n",
    "im"
   ],
   "metadata": {
    "collapsed": false,
    "pycharm": {
     "name": "#%%\n"
    }
   }
  },
  {
   "cell_type": "code",
   "execution_count": 99,
   "outputs": [
    {
     "data": {
      "text/plain": "                      Birthplace       GDP2011       GDP2021     LE2011  \\\n0                    Afghanistan    621.912311    368.754614  61.419000   \n1    Africa Eastern and Southern   1792.847428   1537.336021  59.293271   \n2     Africa Western and Central   1856.687669   1757.030626  55.013138   \n3                        Albania   4437.142612   6492.872012  78.092000   \n4                        Algeria   5473.280550   3690.627878  74.123000   \n..                           ...           ...           ...        ...   \n229                      Vietnam   1953.556979   3756.489121  73.692000   \n230           West Bank and Gaza   2880.798437   3663.969055  73.243000   \n231                        World  10471.014284  12234.796802  71.007857   \n232                       Zambia   1644.456831   1137.343633  57.771000   \n233                     Zimbabwe   1082.615774   1773.920411  53.347000   \n\n        LE2020  \n0    62.575000  \n1    63.313856  \n2    57.226373  \n3    76.989000  \n4    74.453000  \n..         ...  \n229  75.378000  \n230  74.403000  \n231  72.265011  \n232  62.380000  \n233  61.124000  \n\n[234 rows x 5 columns]",
      "text/html": "<div>\n<style scoped>\n    .dataframe tbody tr th:only-of-type {\n        vertical-align: middle;\n    }\n\n    .dataframe tbody tr th {\n        vertical-align: top;\n    }\n\n    .dataframe thead th {\n        text-align: right;\n    }\n</style>\n<table border=\"1\" class=\"dataframe\">\n  <thead>\n    <tr style=\"text-align: right;\">\n      <th></th>\n      <th>Birthplace</th>\n      <th>GDP2011</th>\n      <th>GDP2021</th>\n      <th>LE2011</th>\n      <th>LE2020</th>\n    </tr>\n  </thead>\n  <tbody>\n    <tr>\n      <th>0</th>\n      <td>Afghanistan</td>\n      <td>621.912311</td>\n      <td>368.754614</td>\n      <td>61.419000</td>\n      <td>62.575000</td>\n    </tr>\n    <tr>\n      <th>1</th>\n      <td>Africa Eastern and Southern</td>\n      <td>1792.847428</td>\n      <td>1537.336021</td>\n      <td>59.293271</td>\n      <td>63.313856</td>\n    </tr>\n    <tr>\n      <th>2</th>\n      <td>Africa Western and Central</td>\n      <td>1856.687669</td>\n      <td>1757.030626</td>\n      <td>55.013138</td>\n      <td>57.226373</td>\n    </tr>\n    <tr>\n      <th>3</th>\n      <td>Albania</td>\n      <td>4437.142612</td>\n      <td>6492.872012</td>\n      <td>78.092000</td>\n      <td>76.989000</td>\n    </tr>\n    <tr>\n      <th>4</th>\n      <td>Algeria</td>\n      <td>5473.280550</td>\n      <td>3690.627878</td>\n      <td>74.123000</td>\n      <td>74.453000</td>\n    </tr>\n    <tr>\n      <th>...</th>\n      <td>...</td>\n      <td>...</td>\n      <td>...</td>\n      <td>...</td>\n      <td>...</td>\n    </tr>\n    <tr>\n      <th>229</th>\n      <td>Vietnam</td>\n      <td>1953.556979</td>\n      <td>3756.489121</td>\n      <td>73.692000</td>\n      <td>75.378000</td>\n    </tr>\n    <tr>\n      <th>230</th>\n      <td>West Bank and Gaza</td>\n      <td>2880.798437</td>\n      <td>3663.969055</td>\n      <td>73.243000</td>\n      <td>74.403000</td>\n    </tr>\n    <tr>\n      <th>231</th>\n      <td>World</td>\n      <td>10471.014284</td>\n      <td>12234.796802</td>\n      <td>71.007857</td>\n      <td>72.265011</td>\n    </tr>\n    <tr>\n      <th>232</th>\n      <td>Zambia</td>\n      <td>1644.456831</td>\n      <td>1137.343633</td>\n      <td>57.771000</td>\n      <td>62.380000</td>\n    </tr>\n    <tr>\n      <th>233</th>\n      <td>Zimbabwe</td>\n      <td>1082.615774</td>\n      <td>1773.920411</td>\n      <td>53.347000</td>\n      <td>61.124000</td>\n    </tr>\n  </tbody>\n</table>\n<p>234 rows × 5 columns</p>\n</div>"
     },
     "execution_count": 99,
     "metadata": {},
     "output_type": "execute_result"
    }
   ],
   "source": [
    "gdp = pd.read_csv(\"Datasets/gdp.csv\", skiprows=4, nrows=266, usecols=[0, 55, 65])\n",
    "gdp.columns = ['Birthplace', 'GDP2011', 'GDP2021']\n",
    "life = pd.read_csv(\"Datasets/life.csv\", skiprows=4, usecols=[55, 64])\n",
    "life.columns = ['LE2011', 'LE2020']\n",
    "comb = pd.concat([gdp, life], axis=1)\n",
    "comb.dropna(axis=0,subset = ['GDP2011', 'GDP2021', 'LE2011', 'LE2020'], inplace=True)\n",
    "comb = comb.sort_values(by=['Birthplace'])\n",
    "comb.reset_index(drop=True, inplace=True)\n",
    "comb"
   ],
   "metadata": {
    "collapsed": false,
    "pycharm": {
     "name": "#%%\n"
    }
   }
  },
  {
   "cell_type": "code",
   "execution_count": 100,
   "outputs": [
    {
     "data": {
      "text/plain": "              Birthplace  Immigration  GDP_Change  LE_Change\n0            Afghanistan        21340   -0.407063    1.15600\n1                Albania         5500    0.463300   -1.10300\n2                Algeria        32580   -0.325701    0.33000\n3                 Angola          580   -0.566955    4.66500\n4    Antigua and Barbuda          365    0.203112    1.73700\n..                   ...          ...         ...        ...\n145       United Kingdom        43010    0.103429   -0.04878\n146              Uruguay          580    0.213463    1.44700\n147           Uzbekistan         2250   -0.033184    0.68200\n148               Zambia          845   -0.308377    4.60900\n149             Zimbabwe         3850    0.638550    7.77700\n\n[150 rows x 4 columns]",
      "text/html": "<div>\n<style scoped>\n    .dataframe tbody tr th:only-of-type {\n        vertical-align: middle;\n    }\n\n    .dataframe tbody tr th {\n        vertical-align: top;\n    }\n\n    .dataframe thead th {\n        text-align: right;\n    }\n</style>\n<table border=\"1\" class=\"dataframe\">\n  <thead>\n    <tr style=\"text-align: right;\">\n      <th></th>\n      <th>Birthplace</th>\n      <th>Immigration</th>\n      <th>GDP_Change</th>\n      <th>LE_Change</th>\n    </tr>\n  </thead>\n  <tbody>\n    <tr>\n      <th>0</th>\n      <td>Afghanistan</td>\n      <td>21340</td>\n      <td>-0.407063</td>\n      <td>1.15600</td>\n    </tr>\n    <tr>\n      <th>1</th>\n      <td>Albania</td>\n      <td>5500</td>\n      <td>0.463300</td>\n      <td>-1.10300</td>\n    </tr>\n    <tr>\n      <th>2</th>\n      <td>Algeria</td>\n      <td>32580</td>\n      <td>-0.325701</td>\n      <td>0.33000</td>\n    </tr>\n    <tr>\n      <th>3</th>\n      <td>Angola</td>\n      <td>580</td>\n      <td>-0.566955</td>\n      <td>4.66500</td>\n    </tr>\n    <tr>\n      <th>4</th>\n      <td>Antigua and Barbuda</td>\n      <td>365</td>\n      <td>0.203112</td>\n      <td>1.73700</td>\n    </tr>\n    <tr>\n      <th>...</th>\n      <td>...</td>\n      <td>...</td>\n      <td>...</td>\n      <td>...</td>\n    </tr>\n    <tr>\n      <th>145</th>\n      <td>United Kingdom</td>\n      <td>43010</td>\n      <td>0.103429</td>\n      <td>-0.04878</td>\n    </tr>\n    <tr>\n      <th>146</th>\n      <td>Uruguay</td>\n      <td>580</td>\n      <td>0.213463</td>\n      <td>1.44700</td>\n    </tr>\n    <tr>\n      <th>147</th>\n      <td>Uzbekistan</td>\n      <td>2250</td>\n      <td>-0.033184</td>\n      <td>0.68200</td>\n    </tr>\n    <tr>\n      <th>148</th>\n      <td>Zambia</td>\n      <td>845</td>\n      <td>-0.308377</td>\n      <td>4.60900</td>\n    </tr>\n    <tr>\n      <th>149</th>\n      <td>Zimbabwe</td>\n      <td>3850</td>\n      <td>0.638550</td>\n      <td>7.77700</td>\n    </tr>\n  </tbody>\n</table>\n<p>150 rows × 4 columns</p>\n</div>"
     },
     "execution_count": 100,
     "metadata": {},
     "output_type": "execute_result"
    }
   ],
   "source": [
    "a, b, c, d = [], [], [], []\n",
    "for m in range(len(comb)):\n",
    "    for n in range(len(im)):\n",
    "        if comb['Birthplace'][m] == im['Birthplace'][n]:\n",
    "            a.append(im['Birthplace'][n])\n",
    "            b.append(im['2011-2021'][n])\n",
    "            c.append((comb['GDP2021'][m] - comb['GDP2011'][m]) / comb['GDP2011'][m])\n",
    "            d.append(comb['LE2020'][m] - comb['LE2011'][m])\n",
    "\n",
    "data_1121 = pd.DataFrame({'Birthplace':a, 'Immigration':b, 'GDP_Change':c, 'LE_Change':d})\n",
    "data_1121"
   ],
   "metadata": {
    "collapsed": false,
    "pycharm": {
     "name": "#%%\n"
    }
   }
  },
  {
   "cell_type": "code",
   "execution_count": 105,
   "outputs": [
    {
     "data": {
      "text/plain": "                      0\n2           Afghanistan\n0               Albania\n2               Algeria\n0                Angola\n0   Antigua and Barbuda\n..                  ...\n2        United Kingdom\n0               Uruguay\n0            Uzbekistan\n0                Zambia\n0              Zimbabwe\n\n[150 rows x 1 columns]",
      "text/html": "<div>\n<style scoped>\n    .dataframe tbody tr th:only-of-type {\n        vertical-align: middle;\n    }\n\n    .dataframe tbody tr th {\n        vertical-align: top;\n    }\n\n    .dataframe thead th {\n        text-align: right;\n    }\n</style>\n<table border=\"1\" class=\"dataframe\">\n  <thead>\n    <tr style=\"text-align: right;\">\n      <th></th>\n      <th>0</th>\n    </tr>\n  </thead>\n  <tbody>\n    <tr>\n      <th>2</th>\n      <td>Afghanistan</td>\n    </tr>\n    <tr>\n      <th>0</th>\n      <td>Albania</td>\n    </tr>\n    <tr>\n      <th>2</th>\n      <td>Algeria</td>\n    </tr>\n    <tr>\n      <th>0</th>\n      <td>Angola</td>\n    </tr>\n    <tr>\n      <th>0</th>\n      <td>Antigua and Barbuda</td>\n    </tr>\n    <tr>\n      <th>...</th>\n      <td>...</td>\n    </tr>\n    <tr>\n      <th>2</th>\n      <td>United Kingdom</td>\n    </tr>\n    <tr>\n      <th>0</th>\n      <td>Uruguay</td>\n    </tr>\n    <tr>\n      <th>0</th>\n      <td>Uzbekistan</td>\n    </tr>\n    <tr>\n      <th>0</th>\n      <td>Zambia</td>\n    </tr>\n    <tr>\n      <th>0</th>\n      <td>Zimbabwe</td>\n    </tr>\n  </tbody>\n</table>\n<p>150 rows × 1 columns</p>\n</div>"
     },
     "execution_count": 105,
     "metadata": {},
     "output_type": "execute_result"
    }
   ],
   "source": [
    "X = data_1121[['Immigration', 'GDP_Change', 'LE_Change']]\n",
    "km = KMeans(n_clusters=3, n_init=10).fit(X)\n",
    "pd.DataFrame(a, km.labels_)\n"
   ],
   "metadata": {
    "collapsed": false,
    "pycharm": {
     "name": "#%%\n"
    }
   }
  },
  {
   "cell_type": "code",
   "execution_count": null,
   "outputs": [],
   "source": [],
   "metadata": {
    "collapsed": false,
    "pycharm": {
     "name": "#%%\n"
    }
   }
  }
 ],
 "metadata": {
  "kernelspec": {
   "display_name": "Python 3",
   "language": "python",
   "name": "python3"
  },
  "language_info": {
   "codemirror_mode": {
    "name": "ipython",
    "version": 2
   },
   "file_extension": ".py",
   "mimetype": "text/x-python",
   "name": "python",
   "nbconvert_exporter": "python",
   "pygments_lexer": "ipython2",
   "version": "2.7.6"
  }
 },
 "nbformat": 4,
 "nbformat_minor": 0
}