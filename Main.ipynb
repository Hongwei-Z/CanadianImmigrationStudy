{
 "cells": [
  {
   "cell_type": "code",
   "execution_count": 1,
   "outputs": [],
   "source": [
    "import pandas as pd\n",
    "import numpy as np\n",
    "import matplotlib.pyplot as plt\n",
    "from sklearn.cluster import KMeans"
   ],
   "metadata": {
    "collapsed": false,
    "pycharm": {
     "name": "#%%\n"
    }
   }
  },
  {
   "cell_type": "code",
   "execution_count": 2,
   "outputs": [],
   "source": [
    "im = pd.read_csv(\"Datasets/immigrants.csv\", skiprows=14, nrows=215)\n",
    "im.columns=['Birthplace', '1980-1990', '1991-2000', '2001-2010', '2011-2021']"
   ],
   "metadata": {
    "collapsed": false,
    "pycharm": {
     "name": "#%%\n"
    }
   }
  },
  {
   "cell_type": "code",
   "execution_count": 3,
   "outputs": [
    {
     "data": {
      "text/plain": "                        Birthplace 1980-1990 1991-2000 2001-2010 2011-2021\n0                      Afghanistan      3920     14745     22280     21340\n1                          Albania        15      4130      8000      5500\n2                          Algeria      1345     11745     32430     32580\n3                          Andorra         0         0         0        30\n4                           Angola       415       390      1315       580\n..                             ...       ...       ...       ...       ...\n195  Virgin Islands, United States        10         0        20        15\n196       West Bank and Gaza Strip      1065      1930      2375      2620\n197                          Yemen       120       785      1120      2570\n198                         Zambia       480       685       780       845\n199                       Zimbabwe       965       985      5225      3850\n\n[200 rows x 5 columns]",
      "text/html": "<div>\n<style scoped>\n    .dataframe tbody tr th:only-of-type {\n        vertical-align: middle;\n    }\n\n    .dataframe tbody tr th {\n        vertical-align: top;\n    }\n\n    .dataframe thead th {\n        text-align: right;\n    }\n</style>\n<table border=\"1\" class=\"dataframe\">\n  <thead>\n    <tr style=\"text-align: right;\">\n      <th></th>\n      <th>Birthplace</th>\n      <th>1980-1990</th>\n      <th>1991-2000</th>\n      <th>2001-2010</th>\n      <th>2011-2021</th>\n    </tr>\n  </thead>\n  <tbody>\n    <tr>\n      <th>0</th>\n      <td>Afghanistan</td>\n      <td>3920</td>\n      <td>14745</td>\n      <td>22280</td>\n      <td>21340</td>\n    </tr>\n    <tr>\n      <th>1</th>\n      <td>Albania</td>\n      <td>15</td>\n      <td>4130</td>\n      <td>8000</td>\n      <td>5500</td>\n    </tr>\n    <tr>\n      <th>2</th>\n      <td>Algeria</td>\n      <td>1345</td>\n      <td>11745</td>\n      <td>32430</td>\n      <td>32580</td>\n    </tr>\n    <tr>\n      <th>3</th>\n      <td>Andorra</td>\n      <td>0</td>\n      <td>0</td>\n      <td>0</td>\n      <td>30</td>\n    </tr>\n    <tr>\n      <th>4</th>\n      <td>Angola</td>\n      <td>415</td>\n      <td>390</td>\n      <td>1315</td>\n      <td>580</td>\n    </tr>\n    <tr>\n      <th>...</th>\n      <td>...</td>\n      <td>...</td>\n      <td>...</td>\n      <td>...</td>\n      <td>...</td>\n    </tr>\n    <tr>\n      <th>195</th>\n      <td>Virgin Islands, United States</td>\n      <td>10</td>\n      <td>0</td>\n      <td>20</td>\n      <td>15</td>\n    </tr>\n    <tr>\n      <th>196</th>\n      <td>West Bank and Gaza Strip</td>\n      <td>1065</td>\n      <td>1930</td>\n      <td>2375</td>\n      <td>2620</td>\n    </tr>\n    <tr>\n      <th>197</th>\n      <td>Yemen</td>\n      <td>120</td>\n      <td>785</td>\n      <td>1120</td>\n      <td>2570</td>\n    </tr>\n    <tr>\n      <th>198</th>\n      <td>Zambia</td>\n      <td>480</td>\n      <td>685</td>\n      <td>780</td>\n      <td>845</td>\n    </tr>\n    <tr>\n      <th>199</th>\n      <td>Zimbabwe</td>\n      <td>965</td>\n      <td>985</td>\n      <td>5225</td>\n      <td>3850</td>\n    </tr>\n  </tbody>\n</table>\n<p>200 rows × 5 columns</p>\n</div>"
     },
     "execution_count": 3,
     "metadata": {},
     "output_type": "execute_result"
    }
   ],
   "source": [
    "for i in range(len(im)):\n",
    "    if im['Birthplace'][i][-2:].isdigit():\n",
    "        im['Birthplace'][i] = im['Birthplace'][i][0:-3]\n",
    "    if im['Birthplace'][i][-1].isdigit():\n",
    "        im['Birthplace'][i] = im['Birthplace'][i][0:-2]\n",
    "\n",
    "    im['1980-1990'][i] = int(im['1980-1990'][i].replace(',', ''))\n",
    "    im['1991-2000'][i] = int(im['1991-2000'][i].replace(',', ''))\n",
    "    im['2001-2010'][i] = int(im['2001-2010'][i].replace(',', ''))\n",
    "    im['2011-2021'][i] = int(im['2011-2021'][i].replace(',', ''))\n",
    "    if im['1980-1990'][i] == 0 and im['1991-2000'][i] == 0 and im['2001-2010'][i] == 0 and im['2011-2021'][i] == 0:\n",
    "        im=im.drop(labels=i)\n",
    "im = im.sort_values(by=['Birthplace'])\n",
    "im.reset_index(drop=True, inplace=True)\n",
    "im"
   ],
   "metadata": {
    "collapsed": false,
    "pycharm": {
     "name": "#%%\n"
    }
   }
  },
  {
   "cell_type": "code",
   "execution_count": 28,
   "outputs": [],
   "source": [
    "gdp = pd.read_csv(\"Datasets/gdp.csv\", skiprows=4, nrows=266, usecols=[0, 55, 65])\n",
    "gdp.columns = ['Birthplace', 'GDP2011', 'GDP2021']\n",
    "life = pd.read_csv(\"Datasets/life.csv\", skiprows=4, usecols=[55, 64])\n",
    "life.columns = ['LE2011', 'LE2020']\n",
    "inflation = pd.read_csv(\"Datasets/inflation.csv\", skiprows=4, usecols=[55, 63])\n",
    "inflation.columns = ['IF2011', 'IF2019']\n",
    "unemployment = pd.read_csv(\"Datasets/unemployment.csv\", skiprows=4, usecols=[56, 64])\n",
    "unemployment.columns = ['UE2012', 'UE2020']\n",
    "health = pd.read_csv(\"Datasets/health.csv\", skiprows=4, usecols=[55, 63])\n",
    "health.columns = ['Health2011', 'Health2019']\n",
    "education = pd.read_csv(\"Datasets/education.csv\", skiprows=4, usecols=[55, 64])\n",
    "education.columns = ['EDU2011', 'EDU2020']"
   ],
   "metadata": {
    "collapsed": false,
    "pycharm": {
     "name": "#%%\n"
    }
   }
  },
  {
   "cell_type": "code",
   "execution_count": 29,
   "outputs": [
    {
     "data": {
      "text/plain": "             Birthplace       GDP2011       GDP2021     LE2011     LE2020  \\\n0           Afghanistan    621.912311    368.754614  61.419000  62.575000   \n1               Armenia   3462.681611   4966.513471  73.305000  72.173000   \n2             Australia  62596.432175  60443.109165  81.895122  83.200000   \n3               Austria  51442.276246  53637.705711  80.982927  81.192683   \n4            Azerbaijan   7189.691229   5387.997975  69.984000  66.868000   \n..                  ...           ...           ...        ...        ...   \n92  Upper middle income   7546.030310  10828.050694  74.458433  75.845915   \n93              Uruguay  14267.584306  17313.188348  76.983000  78.430000   \n94           Uzbekistan   2051.129515   1983.064723  69.649000  70.331000   \n95              Vietnam   1953.556979   3756.489121  73.692000  75.378000   \n96               Zambia   1644.456831   1137.343633  57.771000  62.380000   \n\n       IF2011     IF2019     UE2012     UE2020  Health2011  Health2019  \\\n0   11.804186   2.302373   1.690000  11.710000    8.561907   13.242202   \n1    7.650008   1.443447  17.299999  12.180000    9.375878   11.335264   \n2    3.303850   1.610768   5.220000   6.460000    8.541538    9.910786   \n3    3.286579   1.530896   4.910000   5.200000   10.026133   10.434031   \n4    7.858333   2.610572   5.190000   7.160000    2.446418    4.038290   \n..        ...        ...        ...        ...         ...         ...   \n92   5.005595   1.968230   5.092209   6.962978    5.349713    5.844136   \n93   8.092832   7.881989   6.450000  10.330000    7.948956    9.347832   \n94  13.779745  14.525736   4.870000   5.290000    5.143769    5.617604   \n95  18.677732   2.795824   1.030000   2.100000    4.612852    5.249656   \n96   6.429397   9.150316   7.850000   6.030000    3.460532    5.312203   \n\n    EDU2011   EDU2020  \n0   3.46201  2.860859  \n1   3.14385  2.705670  \n2   5.06995  6.100000  \n3   5.59227  5.070000  \n4   2.43564  4.332050  \n..      ...       ...  \n92  4.22994  4.134130  \n93  4.35527  4.552070  \n94  6.19586  4.922790  \n95  4.81372  4.111617  \n96  3.80000  3.702400  \n\n[97 rows x 13 columns]",
      "text/html": "<div>\n<style scoped>\n    .dataframe tbody tr th:only-of-type {\n        vertical-align: middle;\n    }\n\n    .dataframe tbody tr th {\n        vertical-align: top;\n    }\n\n    .dataframe thead th {\n        text-align: right;\n    }\n</style>\n<table border=\"1\" class=\"dataframe\">\n  <thead>\n    <tr style=\"text-align: right;\">\n      <th></th>\n      <th>Birthplace</th>\n      <th>GDP2011</th>\n      <th>GDP2021</th>\n      <th>LE2011</th>\n      <th>LE2020</th>\n      <th>IF2011</th>\n      <th>IF2019</th>\n      <th>UE2012</th>\n      <th>UE2020</th>\n      <th>Health2011</th>\n      <th>Health2019</th>\n      <th>EDU2011</th>\n      <th>EDU2020</th>\n    </tr>\n  </thead>\n  <tbody>\n    <tr>\n      <th>0</th>\n      <td>Afghanistan</td>\n      <td>621.912311</td>\n      <td>368.754614</td>\n      <td>61.419000</td>\n      <td>62.575000</td>\n      <td>11.804186</td>\n      <td>2.302373</td>\n      <td>1.690000</td>\n      <td>11.710000</td>\n      <td>8.561907</td>\n      <td>13.242202</td>\n      <td>3.46201</td>\n      <td>2.860859</td>\n    </tr>\n    <tr>\n      <th>1</th>\n      <td>Armenia</td>\n      <td>3462.681611</td>\n      <td>4966.513471</td>\n      <td>73.305000</td>\n      <td>72.173000</td>\n      <td>7.650008</td>\n      <td>1.443447</td>\n      <td>17.299999</td>\n      <td>12.180000</td>\n      <td>9.375878</td>\n      <td>11.335264</td>\n      <td>3.14385</td>\n      <td>2.705670</td>\n    </tr>\n    <tr>\n      <th>2</th>\n      <td>Australia</td>\n      <td>62596.432175</td>\n      <td>60443.109165</td>\n      <td>81.895122</td>\n      <td>83.200000</td>\n      <td>3.303850</td>\n      <td>1.610768</td>\n      <td>5.220000</td>\n      <td>6.460000</td>\n      <td>8.541538</td>\n      <td>9.910786</td>\n      <td>5.06995</td>\n      <td>6.100000</td>\n    </tr>\n    <tr>\n      <th>3</th>\n      <td>Austria</td>\n      <td>51442.276246</td>\n      <td>53637.705711</td>\n      <td>80.982927</td>\n      <td>81.192683</td>\n      <td>3.286579</td>\n      <td>1.530896</td>\n      <td>4.910000</td>\n      <td>5.200000</td>\n      <td>10.026133</td>\n      <td>10.434031</td>\n      <td>5.59227</td>\n      <td>5.070000</td>\n    </tr>\n    <tr>\n      <th>4</th>\n      <td>Azerbaijan</td>\n      <td>7189.691229</td>\n      <td>5387.997975</td>\n      <td>69.984000</td>\n      <td>66.868000</td>\n      <td>7.858333</td>\n      <td>2.610572</td>\n      <td>5.190000</td>\n      <td>7.160000</td>\n      <td>2.446418</td>\n      <td>4.038290</td>\n      <td>2.43564</td>\n      <td>4.332050</td>\n    </tr>\n    <tr>\n      <th>...</th>\n      <td>...</td>\n      <td>...</td>\n      <td>...</td>\n      <td>...</td>\n      <td>...</td>\n      <td>...</td>\n      <td>...</td>\n      <td>...</td>\n      <td>...</td>\n      <td>...</td>\n      <td>...</td>\n      <td>...</td>\n      <td>...</td>\n    </tr>\n    <tr>\n      <th>92</th>\n      <td>Upper middle income</td>\n      <td>7546.030310</td>\n      <td>10828.050694</td>\n      <td>74.458433</td>\n      <td>75.845915</td>\n      <td>5.005595</td>\n      <td>1.968230</td>\n      <td>5.092209</td>\n      <td>6.962978</td>\n      <td>5.349713</td>\n      <td>5.844136</td>\n      <td>4.22994</td>\n      <td>4.134130</td>\n    </tr>\n    <tr>\n      <th>93</th>\n      <td>Uruguay</td>\n      <td>14267.584306</td>\n      <td>17313.188348</td>\n      <td>76.983000</td>\n      <td>78.430000</td>\n      <td>8.092832</td>\n      <td>7.881989</td>\n      <td>6.450000</td>\n      <td>10.330000</td>\n      <td>7.948956</td>\n      <td>9.347832</td>\n      <td>4.35527</td>\n      <td>4.552070</td>\n    </tr>\n    <tr>\n      <th>94</th>\n      <td>Uzbekistan</td>\n      <td>2051.129515</td>\n      <td>1983.064723</td>\n      <td>69.649000</td>\n      <td>70.331000</td>\n      <td>13.779745</td>\n      <td>14.525736</td>\n      <td>4.870000</td>\n      <td>5.290000</td>\n      <td>5.143769</td>\n      <td>5.617604</td>\n      <td>6.19586</td>\n      <td>4.922790</td>\n    </tr>\n    <tr>\n      <th>95</th>\n      <td>Vietnam</td>\n      <td>1953.556979</td>\n      <td>3756.489121</td>\n      <td>73.692000</td>\n      <td>75.378000</td>\n      <td>18.677732</td>\n      <td>2.795824</td>\n      <td>1.030000</td>\n      <td>2.100000</td>\n      <td>4.612852</td>\n      <td>5.249656</td>\n      <td>4.81372</td>\n      <td>4.111617</td>\n    </tr>\n    <tr>\n      <th>96</th>\n      <td>Zambia</td>\n      <td>1644.456831</td>\n      <td>1137.343633</td>\n      <td>57.771000</td>\n      <td>62.380000</td>\n      <td>6.429397</td>\n      <td>9.150316</td>\n      <td>7.850000</td>\n      <td>6.030000</td>\n      <td>3.460532</td>\n      <td>5.312203</td>\n      <td>3.80000</td>\n      <td>3.702400</td>\n    </tr>\n  </tbody>\n</table>\n<p>97 rows × 13 columns</p>\n</div>"
     },
     "execution_count": 29,
     "metadata": {},
     "output_type": "execute_result"
    }
   ],
   "source": [
    "comb = pd.concat([gdp, life, inflation, unemployment, health, education], axis=1)\n",
    "comb.dropna(axis=0,subset = ['GDP2011', 'GDP2021', 'LE2011', 'LE2020', 'IF2011', 'IF2019', 'UE2012', 'UE2020', 'Health2011', 'Health2019', 'EDU2011', 'EDU2020'], inplace=True)\n",
    "comb = comb.sort_values(by=['Birthplace'])\n",
    "comb.reset_index(drop=True, inplace=True)\n",
    "comb"
   ],
   "metadata": {
    "collapsed": false,
    "pycharm": {
     "name": "#%%\n"
    }
   }
  },
  {
   "cell_type": "code",
   "execution_count": 34,
   "outputs": [
    {
     "data": {
      "text/plain": "             Birthplace  Immigration  GDP_Change  LE_Change  IF_Change  \\\n0           Afghanistan        21340   -0.407063   1.156000  -0.804953   \n1               Armenia         2120    0.434297  -1.132000  -0.811314   \n2               Austria          785    0.042678   0.209756  -0.534198   \n3            Azerbaijan         1905   -0.250594  -3.116000  -0.667796   \n4               Belarus         2850    0.118747   3.673171  -0.894828   \n..                  ...          ...         ...        ...        ...   \n61  Trinidad and Tobago         4095   -0.104846   1.128000  -0.804089   \n62              Ukraine        26470    0.305209   0.375854  -0.008674   \n63              Uruguay          580    0.213463   1.447000  -0.026053   \n64           Uzbekistan         2250   -0.033184   0.682000   0.054137   \n65               Zambia          845   -0.308377   4.609000   0.423200   \n\n    UE_Change  HE_Change  EE_Change  \n0    5.928994   0.546642  -0.173642  \n1   -0.295954   0.208982  -0.139377  \n2    0.059063   0.040684  -0.093391  \n3    0.379576   0.650695   0.778608  \n4    7.100000   0.202478   0.057134  \n..        ...        ...        ...  \n61   0.131720   0.486680  -0.044758  \n62   0.258964   0.041435  -0.093536  \n63   0.601550   0.175982   0.045187  \n64   0.086242   0.092118  -0.205471  \n65  -0.231847   0.535083  -0.025684  \n\n[66 rows x 8 columns]",
      "text/html": "<div>\n<style scoped>\n    .dataframe tbody tr th:only-of-type {\n        vertical-align: middle;\n    }\n\n    .dataframe tbody tr th {\n        vertical-align: top;\n    }\n\n    .dataframe thead th {\n        text-align: right;\n    }\n</style>\n<table border=\"1\" class=\"dataframe\">\n  <thead>\n    <tr style=\"text-align: right;\">\n      <th></th>\n      <th>Birthplace</th>\n      <th>Immigration</th>\n      <th>GDP_Change</th>\n      <th>LE_Change</th>\n      <th>IF_Change</th>\n      <th>UE_Change</th>\n      <th>HE_Change</th>\n      <th>EE_Change</th>\n    </tr>\n  </thead>\n  <tbody>\n    <tr>\n      <th>0</th>\n      <td>Afghanistan</td>\n      <td>21340</td>\n      <td>-0.407063</td>\n      <td>1.156000</td>\n      <td>-0.804953</td>\n      <td>5.928994</td>\n      <td>0.546642</td>\n      <td>-0.173642</td>\n    </tr>\n    <tr>\n      <th>1</th>\n      <td>Armenia</td>\n      <td>2120</td>\n      <td>0.434297</td>\n      <td>-1.132000</td>\n      <td>-0.811314</td>\n      <td>-0.295954</td>\n      <td>0.208982</td>\n      <td>-0.139377</td>\n    </tr>\n    <tr>\n      <th>2</th>\n      <td>Austria</td>\n      <td>785</td>\n      <td>0.042678</td>\n      <td>0.209756</td>\n      <td>-0.534198</td>\n      <td>0.059063</td>\n      <td>0.040684</td>\n      <td>-0.093391</td>\n    </tr>\n    <tr>\n      <th>3</th>\n      <td>Azerbaijan</td>\n      <td>1905</td>\n      <td>-0.250594</td>\n      <td>-3.116000</td>\n      <td>-0.667796</td>\n      <td>0.379576</td>\n      <td>0.650695</td>\n      <td>0.778608</td>\n    </tr>\n    <tr>\n      <th>4</th>\n      <td>Belarus</td>\n      <td>2850</td>\n      <td>0.118747</td>\n      <td>3.673171</td>\n      <td>-0.894828</td>\n      <td>7.100000</td>\n      <td>0.202478</td>\n      <td>0.057134</td>\n    </tr>\n    <tr>\n      <th>...</th>\n      <td>...</td>\n      <td>...</td>\n      <td>...</td>\n      <td>...</td>\n      <td>...</td>\n      <td>...</td>\n      <td>...</td>\n      <td>...</td>\n    </tr>\n    <tr>\n      <th>61</th>\n      <td>Trinidad and Tobago</td>\n      <td>4095</td>\n      <td>-0.104846</td>\n      <td>1.128000</td>\n      <td>-0.804089</td>\n      <td>0.131720</td>\n      <td>0.486680</td>\n      <td>-0.044758</td>\n    </tr>\n    <tr>\n      <th>62</th>\n      <td>Ukraine</td>\n      <td>26470</td>\n      <td>0.305209</td>\n      <td>0.375854</td>\n      <td>-0.008674</td>\n      <td>0.258964</td>\n      <td>0.041435</td>\n      <td>-0.093536</td>\n    </tr>\n    <tr>\n      <th>63</th>\n      <td>Uruguay</td>\n      <td>580</td>\n      <td>0.213463</td>\n      <td>1.447000</td>\n      <td>-0.026053</td>\n      <td>0.601550</td>\n      <td>0.175982</td>\n      <td>0.045187</td>\n    </tr>\n    <tr>\n      <th>64</th>\n      <td>Uzbekistan</td>\n      <td>2250</td>\n      <td>-0.033184</td>\n      <td>0.682000</td>\n      <td>0.054137</td>\n      <td>0.086242</td>\n      <td>0.092118</td>\n      <td>-0.205471</td>\n    </tr>\n    <tr>\n      <th>65</th>\n      <td>Zambia</td>\n      <td>845</td>\n      <td>-0.308377</td>\n      <td>4.609000</td>\n      <td>0.423200</td>\n      <td>-0.231847</td>\n      <td>0.535083</td>\n      <td>-0.025684</td>\n    </tr>\n  </tbody>\n</table>\n<p>66 rows × 8 columns</p>\n</div>"
     },
     "execution_count": 34,
     "metadata": {},
     "output_type": "execute_result"
    }
   ],
   "source": [
    "def increase_rate(num1, num2):\n",
    "    return (num2 - num1) / num1\n",
    "\n",
    "a, b, c, d, e, f, g, h = [], [], [], [], [], [], [], []\n",
    "for m in range(len(comb)):\n",
    "    for n in range(len(im)):\n",
    "        if comb['Birthplace'][m] == im['Birthplace'][n]:\n",
    "            a.append(im['Birthplace'][n])\n",
    "            b.append(im['2011-2021'][n])\n",
    "            c.append(increase_rate(comb['GDP2011'][m], comb['GDP2021'][m]))\n",
    "            d.append(comb['LE2020'][m] - comb['LE2011'][m])\n",
    "            e.append(increase_rate(comb['IF2011'][m], comb['IF2019'][m]))\n",
    "            f.append(increase_rate(comb['UE2012'][m], comb['UE2020'][m]))\n",
    "            g.append(increase_rate(comb['Health2011'][m], comb['Health2019'][m]))\n",
    "            h.append(increase_rate(comb['EDU2011'][m], comb['EDU2020'][m]))\n",
    "\n",
    "data_1121 = pd.DataFrame({'Birthplace':a, 'Immigration':b, 'GDP_Change':c, 'LE_Change':d, 'IF_Change': e, 'UE_Change': f, 'HE_Change': g, 'EE_Change': h})\n",
    "data_1121"
   ],
   "metadata": {
    "collapsed": false,
    "pycharm": {
     "name": "#%%\n"
    }
   }
  },
  {
   "cell_type": "code",
   "execution_count": 36,
   "outputs": [
    {
     "data": {
      "text/plain": "                      0\n4           Afghanistan\n0               Armenia\n0               Austria\n0            Azerbaijan\n0               Belarus\n..                  ...\n0   Trinidad and Tobago\n4               Ukraine\n0               Uruguay\n0            Uzbekistan\n0                Zambia\n\n[66 rows x 1 columns]",
      "text/html": "<div>\n<style scoped>\n    .dataframe tbody tr th:only-of-type {\n        vertical-align: middle;\n    }\n\n    .dataframe tbody tr th {\n        vertical-align: top;\n    }\n\n    .dataframe thead th {\n        text-align: right;\n    }\n</style>\n<table border=\"1\" class=\"dataframe\">\n  <thead>\n    <tr style=\"text-align: right;\">\n      <th></th>\n      <th>0</th>\n    </tr>\n  </thead>\n  <tbody>\n    <tr>\n      <th>4</th>\n      <td>Afghanistan</td>\n    </tr>\n    <tr>\n      <th>0</th>\n      <td>Armenia</td>\n    </tr>\n    <tr>\n      <th>0</th>\n      <td>Austria</td>\n    </tr>\n    <tr>\n      <th>0</th>\n      <td>Azerbaijan</td>\n    </tr>\n    <tr>\n      <th>0</th>\n      <td>Belarus</td>\n    </tr>\n    <tr>\n      <th>...</th>\n      <td>...</td>\n    </tr>\n    <tr>\n      <th>0</th>\n      <td>Trinidad and Tobago</td>\n    </tr>\n    <tr>\n      <th>4</th>\n      <td>Ukraine</td>\n    </tr>\n    <tr>\n      <th>0</th>\n      <td>Uruguay</td>\n    </tr>\n    <tr>\n      <th>0</th>\n      <td>Uzbekistan</td>\n    </tr>\n    <tr>\n      <th>0</th>\n      <td>Zambia</td>\n    </tr>\n  </tbody>\n</table>\n<p>66 rows × 1 columns</p>\n</div>"
     },
     "execution_count": 36,
     "metadata": {},
     "output_type": "execute_result"
    }
   ],
   "source": [
    "X = data_1121[['Immigration', 'GDP_Change', 'LE_Change', 'IF_Change', 'UE_Change', 'HE_Change', 'EE_Change']]\n",
    "km = KMeans(n_clusters=5, n_init=10).fit(X)\n",
    "pd.DataFrame(a, km.labels_)\n"
   ],
   "metadata": {
    "collapsed": false,
    "pycharm": {
     "name": "#%%\n"
    }
   }
  },
  {
   "cell_type": "code",
   "execution_count": null,
   "outputs": [],
   "source": [],
   "metadata": {
    "collapsed": false,
    "pycharm": {
     "name": "#%%\n"
    }
   }
  }
 ],
 "metadata": {
  "kernelspec": {
   "display_name": "Python 3",
   "language": "python",
   "name": "python3"
  },
  "language_info": {
   "codemirror_mode": {
    "name": "ipython",
    "version": 2
   },
   "file_extension": ".py",
   "mimetype": "text/x-python",
   "name": "python",
   "nbconvert_exporter": "python",
   "pygments_lexer": "ipython2",
   "version": "2.7.6"
  }
 },
 "nbformat": 4,
 "nbformat_minor": 0
}