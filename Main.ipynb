{
 "cells": [
  {
   "cell_type": "code",
   "execution_count": 160,
   "outputs": [],
   "source": [
    "import pandas as pd\n",
    "import numpy as np\n",
    "import matplotlib.pyplot as plt"
   ],
   "metadata": {
    "collapsed": false,
    "pycharm": {
     "name": "#%%\n"
    }
   }
  },
  {
   "cell_type": "code",
   "execution_count": 161,
   "outputs": [],
   "source": [
    "im = pd.read_csv(\"Datasets/immigrants.csv\", skiprows=14, nrows=215)\n",
    "im.columns=['Birthplace', '1980-1990', '1991-2000', '2001-2010', '2011-2021']"
   ],
   "metadata": {
    "collapsed": false,
    "pycharm": {
     "name": "#%%\n"
    }
   }
  },
  {
   "cell_type": "code",
   "execution_count": 162,
   "outputs": [
    {
     "data": {
      "text/plain": "                        Birthplace 1980-1990 1991-2000 2001-2010 2011-2021\n0                      Afghanistan      3920     14745     22280     21340\n1                          Albania        15      4130      8000      5500\n2                          Algeria      1345     11745     32430     32580\n3                          Andorra         0         0         0        30\n4                           Angola       415       390      1315       580\n..                             ...       ...       ...       ...       ...\n195  Virgin Islands, United States        10         0        20        15\n196       West Bank and Gaza Strip      1065      1930      2375      2620\n197                          Yemen       120       785      1120      2570\n198                         Zambia       480       685       780       845\n199                       Zimbabwe       965       985      5225      3850\n\n[200 rows x 5 columns]",
      "text/html": "<div>\n<style scoped>\n    .dataframe tbody tr th:only-of-type {\n        vertical-align: middle;\n    }\n\n    .dataframe tbody tr th {\n        vertical-align: top;\n    }\n\n    .dataframe thead th {\n        text-align: right;\n    }\n</style>\n<table border=\"1\" class=\"dataframe\">\n  <thead>\n    <tr style=\"text-align: right;\">\n      <th></th>\n      <th>Birthplace</th>\n      <th>1980-1990</th>\n      <th>1991-2000</th>\n      <th>2001-2010</th>\n      <th>2011-2021</th>\n    </tr>\n  </thead>\n  <tbody>\n    <tr>\n      <th>0</th>\n      <td>Afghanistan</td>\n      <td>3920</td>\n      <td>14745</td>\n      <td>22280</td>\n      <td>21340</td>\n    </tr>\n    <tr>\n      <th>1</th>\n      <td>Albania</td>\n      <td>15</td>\n      <td>4130</td>\n      <td>8000</td>\n      <td>5500</td>\n    </tr>\n    <tr>\n      <th>2</th>\n      <td>Algeria</td>\n      <td>1345</td>\n      <td>11745</td>\n      <td>32430</td>\n      <td>32580</td>\n    </tr>\n    <tr>\n      <th>3</th>\n      <td>Andorra</td>\n      <td>0</td>\n      <td>0</td>\n      <td>0</td>\n      <td>30</td>\n    </tr>\n    <tr>\n      <th>4</th>\n      <td>Angola</td>\n      <td>415</td>\n      <td>390</td>\n      <td>1315</td>\n      <td>580</td>\n    </tr>\n    <tr>\n      <th>...</th>\n      <td>...</td>\n      <td>...</td>\n      <td>...</td>\n      <td>...</td>\n      <td>...</td>\n    </tr>\n    <tr>\n      <th>195</th>\n      <td>Virgin Islands, United States</td>\n      <td>10</td>\n      <td>0</td>\n      <td>20</td>\n      <td>15</td>\n    </tr>\n    <tr>\n      <th>196</th>\n      <td>West Bank and Gaza Strip</td>\n      <td>1065</td>\n      <td>1930</td>\n      <td>2375</td>\n      <td>2620</td>\n    </tr>\n    <tr>\n      <th>197</th>\n      <td>Yemen</td>\n      <td>120</td>\n      <td>785</td>\n      <td>1120</td>\n      <td>2570</td>\n    </tr>\n    <tr>\n      <th>198</th>\n      <td>Zambia</td>\n      <td>480</td>\n      <td>685</td>\n      <td>780</td>\n      <td>845</td>\n    </tr>\n    <tr>\n      <th>199</th>\n      <td>Zimbabwe</td>\n      <td>965</td>\n      <td>985</td>\n      <td>5225</td>\n      <td>3850</td>\n    </tr>\n  </tbody>\n</table>\n<p>200 rows × 5 columns</p>\n</div>"
     },
     "execution_count": 162,
     "metadata": {},
     "output_type": "execute_result"
    }
   ],
   "source": [
    "for i in range(len(im)):\n",
    "    if im['Birthplace'][i][-2:].isdigit():\n",
    "        im['Birthplace'][i] = im['Birthplace'][i][0:-3]\n",
    "    if im['Birthplace'][i][-1].isdigit():\n",
    "        im['Birthplace'][i] = im['Birthplace'][i][0:-2]\n",
    "\n",
    "    im['1980-1990'][i] = int(im['1980-1990'][i].replace(',', ''))\n",
    "    im['1991-2000'][i] = int(im['1991-2000'][i].replace(',', ''))\n",
    "    im['2001-2010'][i] = int(im['2001-2010'][i].replace(',', ''))\n",
    "    im['2011-2021'][i] = int(im['2011-2021'][i].replace(',', ''))\n",
    "    if im['1980-1990'][i] == 0 and im['1991-2000'][i] == 0 and im['2001-2010'][i] == 0 and im['2011-2021'][i] == 0:\n",
    "        im=im.drop(labels=i)\n",
    "im = im.sort_values(by=['Birthplace'])\n",
    "im.reset_index(drop=True, inplace=True)\n",
    "im"
   ],
   "metadata": {
    "collapsed": false,
    "pycharm": {
     "name": "#%%\n"
    }
   }
  },
  {
   "cell_type": "code",
   "execution_count": 162,
   "outputs": [],
   "source": [],
   "metadata": {
    "collapsed": false,
    "pycharm": {
     "name": "#%%\n"
    }
   }
  },
  {
   "cell_type": "code",
   "execution_count": 162,
   "outputs": [],
   "source": [],
   "metadata": {
    "collapsed": false,
    "pycharm": {
     "name": "#%%\n"
    }
   }
  }
 ],
 "metadata": {
  "kernelspec": {
   "display_name": "Python 3",
   "language": "python",
   "name": "python3"
  },
  "language_info": {
   "codemirror_mode": {
    "name": "ipython",
    "version": 2
   },
   "file_extension": ".py",
   "mimetype": "text/x-python",
   "name": "python",
   "nbconvert_exporter": "python",
   "pygments_lexer": "ipython2",
   "version": "2.7.6"
  }
 },
 "nbformat": 4,
 "nbformat_minor": 0
}