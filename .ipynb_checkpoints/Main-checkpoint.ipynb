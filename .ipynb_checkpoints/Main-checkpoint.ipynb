{
 "cells": [
  {
   "cell_type": "code",
   "execution_count": 1,
   "metadata": {
    "pycharm": {
     "name": "#%%\n"
    }
   },
   "outputs": [],
   "source": [
    "import pandas as pd\n",
    "import numpy as np\n",
    "import matplotlib.pyplot as plt\n",
    "import seaborn as sb\n",
    "from sklearn.cluster import KMeans\n",
    "from sklearn.preprocessing import normalize"
   ]
  },
  {
   "cell_type": "code",
   "execution_count": 2,
   "metadata": {
    "pycharm": {
     "name": "#%%\n"
    }
   },
   "outputs": [],
   "source": [
    "im = pd.read_csv(\"Datasets/immigrants.csv\", skiprows=14, nrows=215)\n",
    "im.columns=['Birthplace', '1980-1990', '1991-2000', '2001-2010', '2011-2021']"
   ]
  },
  {
   "cell_type": "code",
   "execution_count": 3,
   "metadata": {
    "pycharm": {
     "name": "#%%\n"
    }
   },
   "outputs": [
    {
     "data": {
      "text/html": [
       "<div>\n",
       "<style scoped>\n",
       "    .dataframe tbody tr th:only-of-type {\n",
       "        vertical-align: middle;\n",
       "    }\n",
       "\n",
       "    .dataframe tbody tr th {\n",
       "        vertical-align: top;\n",
       "    }\n",
       "\n",
       "    .dataframe thead th {\n",
       "        text-align: right;\n",
       "    }\n",
       "</style>\n",
       "<table border=\"1\" class=\"dataframe\">\n",
       "  <thead>\n",
       "    <tr style=\"text-align: right;\">\n",
       "      <th></th>\n",
       "      <th>Birthplace</th>\n",
       "      <th>1980-1990</th>\n",
       "      <th>1991-2000</th>\n",
       "      <th>2001-2010</th>\n",
       "      <th>2011-2021</th>\n",
       "    </tr>\n",
       "  </thead>\n",
       "  <tbody>\n",
       "    <tr>\n",
       "      <th>0</th>\n",
       "      <td>Afghanistan</td>\n",
       "      <td>3920</td>\n",
       "      <td>14745</td>\n",
       "      <td>22280</td>\n",
       "      <td>21340</td>\n",
       "    </tr>\n",
       "    <tr>\n",
       "      <th>1</th>\n",
       "      <td>Albania</td>\n",
       "      <td>15</td>\n",
       "      <td>4130</td>\n",
       "      <td>8000</td>\n",
       "      <td>5500</td>\n",
       "    </tr>\n",
       "    <tr>\n",
       "      <th>2</th>\n",
       "      <td>Algeria</td>\n",
       "      <td>1345</td>\n",
       "      <td>11745</td>\n",
       "      <td>32430</td>\n",
       "      <td>32580</td>\n",
       "    </tr>\n",
       "    <tr>\n",
       "      <th>3</th>\n",
       "      <td>Andorra</td>\n",
       "      <td>0</td>\n",
       "      <td>0</td>\n",
       "      <td>0</td>\n",
       "      <td>30</td>\n",
       "    </tr>\n",
       "    <tr>\n",
       "      <th>4</th>\n",
       "      <td>Angola</td>\n",
       "      <td>415</td>\n",
       "      <td>390</td>\n",
       "      <td>1315</td>\n",
       "      <td>580</td>\n",
       "    </tr>\n",
       "  </tbody>\n",
       "</table>\n",
       "</div>"
      ],
      "text/plain": [
       "    Birthplace 1980-1990 1991-2000 2001-2010 2011-2021\n",
       "0  Afghanistan      3920     14745     22280     21340\n",
       "1      Albania        15      4130      8000      5500\n",
       "2      Algeria      1345     11745     32430     32580\n",
       "3      Andorra         0         0         0        30\n",
       "4       Angola       415       390      1315       580"
      ]
     },
     "execution_count": 3,
     "metadata": {},
     "output_type": "execute_result"
    }
   ],
   "source": [
    "for i in range(len(im)):\n",
    "    if im['Birthplace'][i][-2:].isdigit():\n",
    "        im['Birthplace'][i] = im['Birthplace'][i][0:-3]\n",
    "    if im['Birthplace'][i][-1].isdigit():\n",
    "        im['Birthplace'][i] = im['Birthplace'][i][0:-2]\n",
    "\n",
    "    im['1980-1990'][i] = int(im['1980-1990'][i].replace(',', ''))\n",
    "    im['1991-2000'][i] = int(im['1991-2000'][i].replace(',', ''))\n",
    "    im['2001-2010'][i] = int(im['2001-2010'][i].replace(',', ''))\n",
    "    im['2011-2021'][i] = int(im['2011-2021'][i].replace(',', ''))\n",
    "    if im['1980-1990'][i] == 0 and im['1991-2000'][i] == 0 and im['2001-2010'][i] == 0 and im['2011-2021'][i] == 0:\n",
    "        im=im.drop(labels=i)\n",
    "im = im.sort_values(by=['Birthplace'])\n",
    "im.reset_index(drop=True, inplace=True)\n",
    "im.head()"
   ]
  },
  {
   "cell_type": "code",
   "execution_count": 6,
   "metadata": {
    "pycharm": {
     "name": "#%%\n"
    }
   },
   "outputs": [],
   "source": [
    "gdp = pd.read_csv(\"Datasets/gdp.csv\", skiprows=4, nrows=266, usecols=[0, 55, 65])\n",
    "gdp.columns = ['Birthplace', 'GDP11', 'GDP21']\n",
    "life = pd.read_csv(\"Datasets/life.csv\", skiprows=4, usecols=[55, 64])\n",
    "life.columns = ['LE11', 'LE20']\n",
    "inflation = pd.read_csv(\"Datasets/inflation.csv\", skiprows=4, usecols=[55, 63])\n",
    "inflation.columns = ['IF11', 'IF19']\n",
    "unemployment = pd.read_csv(\"Datasets/unemployment.csv\", skiprows=4, usecols=[56, 64])\n",
    "unemployment.columns = ['UE12', 'UE20']\n",
    "health = pd.read_csv(\"Datasets/health.csv\", skiprows=4, usecols=[55, 63])\n",
    "health.columns = ['HE11', 'HE19']\n",
    "education = pd.read_csv(\"Datasets/education.csv\", skiprows=4, usecols=[55, 64])\n",
    "education.columns = ['ED11', 'ED20']"
   ]
  },
  {
   "cell_type": "code",
   "execution_count": 8,
   "metadata": {
    "pycharm": {
     "name": "#%%\n"
    }
   },
   "outputs": [
    {
     "data": {
      "text/html": [
       "<div>\n",
       "<style scoped>\n",
       "    .dataframe tbody tr th:only-of-type {\n",
       "        vertical-align: middle;\n",
       "    }\n",
       "\n",
       "    .dataframe tbody tr th {\n",
       "        vertical-align: top;\n",
       "    }\n",
       "\n",
       "    .dataframe thead th {\n",
       "        text-align: right;\n",
       "    }\n",
       "</style>\n",
       "<table border=\"1\" class=\"dataframe\">\n",
       "  <thead>\n",
       "    <tr style=\"text-align: right;\">\n",
       "      <th></th>\n",
       "      <th>Birthplace</th>\n",
       "      <th>GDP11</th>\n",
       "      <th>GDP21</th>\n",
       "      <th>LE11</th>\n",
       "      <th>LE20</th>\n",
       "      <th>IF11</th>\n",
       "      <th>IF19</th>\n",
       "      <th>UE12</th>\n",
       "      <th>UE20</th>\n",
       "      <th>HE11</th>\n",
       "      <th>HE19</th>\n",
       "      <th>ED11</th>\n",
       "      <th>ED20</th>\n",
       "    </tr>\n",
       "  </thead>\n",
       "  <tbody>\n",
       "    <tr>\n",
       "      <th>0</th>\n",
       "      <td>Afghanistan</td>\n",
       "      <td>621.912311</td>\n",
       "      <td>368.754614</td>\n",
       "      <td>61.419000</td>\n",
       "      <td>62.575000</td>\n",
       "      <td>11.804186</td>\n",
       "      <td>2.302373</td>\n",
       "      <td>1.690000</td>\n",
       "      <td>11.71</td>\n",
       "      <td>8.561907</td>\n",
       "      <td>13.242202</td>\n",
       "      <td>3.46201</td>\n",
       "      <td>2.860859</td>\n",
       "    </tr>\n",
       "    <tr>\n",
       "      <th>1</th>\n",
       "      <td>Armenia</td>\n",
       "      <td>3462.681611</td>\n",
       "      <td>4966.513471</td>\n",
       "      <td>73.305000</td>\n",
       "      <td>72.173000</td>\n",
       "      <td>7.650008</td>\n",
       "      <td>1.443447</td>\n",
       "      <td>17.299999</td>\n",
       "      <td>12.18</td>\n",
       "      <td>9.375878</td>\n",
       "      <td>11.335264</td>\n",
       "      <td>3.14385</td>\n",
       "      <td>2.705670</td>\n",
       "    </tr>\n",
       "    <tr>\n",
       "      <th>2</th>\n",
       "      <td>Australia</td>\n",
       "      <td>62596.432175</td>\n",
       "      <td>60443.109165</td>\n",
       "      <td>81.895122</td>\n",
       "      <td>83.200000</td>\n",
       "      <td>3.303850</td>\n",
       "      <td>1.610768</td>\n",
       "      <td>5.220000</td>\n",
       "      <td>6.46</td>\n",
       "      <td>8.541538</td>\n",
       "      <td>9.910786</td>\n",
       "      <td>5.06995</td>\n",
       "      <td>6.100000</td>\n",
       "    </tr>\n",
       "    <tr>\n",
       "      <th>3</th>\n",
       "      <td>Austria</td>\n",
       "      <td>51442.276246</td>\n",
       "      <td>53637.705711</td>\n",
       "      <td>80.982927</td>\n",
       "      <td>81.192683</td>\n",
       "      <td>3.286579</td>\n",
       "      <td>1.530896</td>\n",
       "      <td>4.910000</td>\n",
       "      <td>5.20</td>\n",
       "      <td>10.026133</td>\n",
       "      <td>10.434031</td>\n",
       "      <td>5.59227</td>\n",
       "      <td>5.070000</td>\n",
       "    </tr>\n",
       "    <tr>\n",
       "      <th>4</th>\n",
       "      <td>Azerbaijan</td>\n",
       "      <td>7189.691229</td>\n",
       "      <td>5387.997975</td>\n",
       "      <td>69.984000</td>\n",
       "      <td>66.868000</td>\n",
       "      <td>7.858333</td>\n",
       "      <td>2.610572</td>\n",
       "      <td>5.190000</td>\n",
       "      <td>7.16</td>\n",
       "      <td>2.446418</td>\n",
       "      <td>4.038290</td>\n",
       "      <td>2.43564</td>\n",
       "      <td>4.332050</td>\n",
       "    </tr>\n",
       "  </tbody>\n",
       "</table>\n",
       "</div>"
      ],
      "text/plain": [
       "    Birthplace         GDP11         GDP21       LE11       LE20       IF11  \\\n",
       "0  Afghanistan    621.912311    368.754614  61.419000  62.575000  11.804186   \n",
       "1      Armenia   3462.681611   4966.513471  73.305000  72.173000   7.650008   \n",
       "2    Australia  62596.432175  60443.109165  81.895122  83.200000   3.303850   \n",
       "3      Austria  51442.276246  53637.705711  80.982927  81.192683   3.286579   \n",
       "4   Azerbaijan   7189.691229   5387.997975  69.984000  66.868000   7.858333   \n",
       "\n",
       "       IF19       UE12   UE20       HE11       HE19     ED11      ED20  \n",
       "0  2.302373   1.690000  11.71   8.561907  13.242202  3.46201  2.860859  \n",
       "1  1.443447  17.299999  12.18   9.375878  11.335264  3.14385  2.705670  \n",
       "2  1.610768   5.220000   6.46   8.541538   9.910786  5.06995  6.100000  \n",
       "3  1.530896   4.910000   5.20  10.026133  10.434031  5.59227  5.070000  \n",
       "4  2.610572   5.190000   7.16   2.446418   4.038290  2.43564  4.332050  "
      ]
     },
     "execution_count": 8,
     "metadata": {},
     "output_type": "execute_result"
    }
   ],
   "source": [
    "comb = pd.concat([gdp, life, inflation, unemployment, health, education], axis=1)\n",
    "comb.dropna(axis=0,subset = ['GDP11', 'GDP21', 'LE11', 'LE20', 'IF11', 'IF19', 'UE12', 'UE20', 'HE11', 'HE19', 'ED11', 'ED20'], inplace=True)\n",
    "comb = comb.sort_values(by=['Birthplace'])\n",
    "comb.reset_index(drop=True, inplace=True)\n",
    "comb.head()"
   ]
  },
  {
   "cell_type": "code",
   "execution_count": 21,
   "metadata": {
    "pycharm": {
     "name": "#%%\n"
    }
   },
   "outputs": [
    {
     "data": {
      "text/html": [
       "<div>\n",
       "<style scoped>\n",
       "    .dataframe tbody tr th:only-of-type {\n",
       "        vertical-align: middle;\n",
       "    }\n",
       "\n",
       "    .dataframe tbody tr th {\n",
       "        vertical-align: top;\n",
       "    }\n",
       "\n",
       "    .dataframe thead th {\n",
       "        text-align: right;\n",
       "    }\n",
       "</style>\n",
       "<table border=\"1\" class=\"dataframe\">\n",
       "  <thead>\n",
       "    <tr style=\"text-align: right;\">\n",
       "      <th></th>\n",
       "      <th>Birthplace</th>\n",
       "      <th>Immigration</th>\n",
       "      <th>GDP_Change</th>\n",
       "      <th>LE_Change</th>\n",
       "      <th>IF_Change</th>\n",
       "      <th>UE_Change</th>\n",
       "      <th>HE_Change</th>\n",
       "      <th>ED_Change</th>\n",
       "    </tr>\n",
       "  </thead>\n",
       "  <tbody>\n",
       "    <tr>\n",
       "      <th>0</th>\n",
       "      <td>Afghanistan</td>\n",
       "      <td>21340</td>\n",
       "      <td>-0.407</td>\n",
       "      <td>1.156</td>\n",
       "      <td>-0.805</td>\n",
       "      <td>5.929</td>\n",
       "      <td>0.547</td>\n",
       "      <td>-0.174</td>\n",
       "    </tr>\n",
       "    <tr>\n",
       "      <th>1</th>\n",
       "      <td>Armenia</td>\n",
       "      <td>2120</td>\n",
       "      <td>0.434</td>\n",
       "      <td>-1.132</td>\n",
       "      <td>-0.811</td>\n",
       "      <td>-0.296</td>\n",
       "      <td>0.209</td>\n",
       "      <td>-0.139</td>\n",
       "    </tr>\n",
       "    <tr>\n",
       "      <th>2</th>\n",
       "      <td>Austria</td>\n",
       "      <td>785</td>\n",
       "      <td>0.043</td>\n",
       "      <td>0.210</td>\n",
       "      <td>-0.534</td>\n",
       "      <td>0.059</td>\n",
       "      <td>0.041</td>\n",
       "      <td>-0.093</td>\n",
       "    </tr>\n",
       "    <tr>\n",
       "      <th>3</th>\n",
       "      <td>Azerbaijan</td>\n",
       "      <td>1905</td>\n",
       "      <td>-0.251</td>\n",
       "      <td>-3.116</td>\n",
       "      <td>-0.668</td>\n",
       "      <td>0.380</td>\n",
       "      <td>0.651</td>\n",
       "      <td>0.779</td>\n",
       "    </tr>\n",
       "    <tr>\n",
       "      <th>4</th>\n",
       "      <td>Belarus</td>\n",
       "      <td>2850</td>\n",
       "      <td>0.119</td>\n",
       "      <td>3.673</td>\n",
       "      <td>-0.895</td>\n",
       "      <td>7.100</td>\n",
       "      <td>0.202</td>\n",
       "      <td>0.057</td>\n",
       "    </tr>\n",
       "  </tbody>\n",
       "</table>\n",
       "</div>"
      ],
      "text/plain": [
       "    Birthplace  Immigration  GDP_Change  LE_Change  IF_Change  UE_Change  \\\n",
       "0  Afghanistan        21340      -0.407      1.156     -0.805      5.929   \n",
       "1      Armenia         2120       0.434     -1.132     -0.811     -0.296   \n",
       "2      Austria          785       0.043      0.210     -0.534      0.059   \n",
       "3   Azerbaijan         1905      -0.251     -3.116     -0.668      0.380   \n",
       "4      Belarus         2850       0.119      3.673     -0.895      7.100   \n",
       "\n",
       "   HE_Change  ED_Change  \n",
       "0      0.547     -0.174  \n",
       "1      0.209     -0.139  \n",
       "2      0.041     -0.093  \n",
       "3      0.651      0.779  \n",
       "4      0.202      0.057  "
      ]
     },
     "execution_count": 21,
     "metadata": {},
     "output_type": "execute_result"
    }
   ],
   "source": [
    "def increase_rate(num1, num2):\n",
    "    return float(format((num2 - num1) / num1, '.3f'))\n",
    "\n",
    "a, b, c, d, e, f, g, h = [], [], [], [], [], [], [], []\n",
    "for m in range(len(comb)):\n",
    "    for n in range(len(im)):\n",
    "        if comb['Birthplace'][m] == im['Birthplace'][n]:\n",
    "            a.append(im['Birthplace'][n])\n",
    "            b.append(im['2011-2021'][n])\n",
    "            c.append(increase_rate(comb['GDP11'][m], comb['GDP21'][m]))\n",
    "            d.append(float(format(comb['LE20'][m] - comb['LE11'][m], '.3f')))\n",
    "            e.append(increase_rate(comb['IF11'][m], comb['IF19'][m]))\n",
    "            f.append(increase_rate(comb['UE12'][m], comb['UE20'][m]))\n",
    "            g.append(increase_rate(comb['HE11'][m], comb['HE19'][m]))\n",
    "            h.append(increase_rate(comb['ED11'][m], comb['ED20'][m]))\n",
    "\n",
    "dataset = pd.DataFrame({'Birthplace':a, 'Immigration':b, 'GDP_Change':c, 'LE_Change':d, 'IF_Change': e, 'UE_Change': f, 'HE_Change': g, 'ED_Change': h})\n",
    "dataset.head()"
   ]
  },
  {
   "cell_type": "code",
   "execution_count": 23,
   "metadata": {
    "pycharm": {
     "name": "#%%\n"
    }
   },
   "outputs": [
    {
     "data": {
      "text/html": [
       "<div>\n",
       "<style scoped>\n",
       "    .dataframe tbody tr th:only-of-type {\n",
       "        vertical-align: middle;\n",
       "    }\n",
       "\n",
       "    .dataframe tbody tr th {\n",
       "        vertical-align: top;\n",
       "    }\n",
       "\n",
       "    .dataframe thead th {\n",
       "        text-align: right;\n",
       "    }\n",
       "</style>\n",
       "<table border=\"1\" class=\"dataframe\">\n",
       "  <thead>\n",
       "    <tr style=\"text-align: right;\">\n",
       "      <th></th>\n",
       "      <th>Birthplace</th>\n",
       "      <th>Immigration</th>\n",
       "      <th>GDP_Change</th>\n",
       "      <th>LE_Change</th>\n",
       "      <th>IF_Change</th>\n",
       "      <th>UE_Change</th>\n",
       "      <th>HE_Change</th>\n",
       "      <th>ED_Change</th>\n",
       "    </tr>\n",
       "  </thead>\n",
       "  <tbody>\n",
       "    <tr>\n",
       "      <th>0</th>\n",
       "      <td>Afghanistan</td>\n",
       "      <td>0.051661</td>\n",
       "      <td>-0.407</td>\n",
       "      <td>1.156</td>\n",
       "      <td>-0.805</td>\n",
       "      <td>5.929</td>\n",
       "      <td>0.547</td>\n",
       "      <td>-0.174</td>\n",
       "    </tr>\n",
       "    <tr>\n",
       "      <th>1</th>\n",
       "      <td>Armenia</td>\n",
       "      <td>0.005132</td>\n",
       "      <td>0.434</td>\n",
       "      <td>-1.132</td>\n",
       "      <td>-0.811</td>\n",
       "      <td>-0.296</td>\n",
       "      <td>0.209</td>\n",
       "      <td>-0.139</td>\n",
       "    </tr>\n",
       "    <tr>\n",
       "      <th>2</th>\n",
       "      <td>Austria</td>\n",
       "      <td>0.001900</td>\n",
       "      <td>0.043</td>\n",
       "      <td>0.210</td>\n",
       "      <td>-0.534</td>\n",
       "      <td>0.059</td>\n",
       "      <td>0.041</td>\n",
       "      <td>-0.093</td>\n",
       "    </tr>\n",
       "    <tr>\n",
       "      <th>3</th>\n",
       "      <td>Azerbaijan</td>\n",
       "      <td>0.004612</td>\n",
       "      <td>-0.251</td>\n",
       "      <td>-3.116</td>\n",
       "      <td>-0.668</td>\n",
       "      <td>0.380</td>\n",
       "      <td>0.651</td>\n",
       "      <td>0.779</td>\n",
       "    </tr>\n",
       "    <tr>\n",
       "      <th>4</th>\n",
       "      <td>Belarus</td>\n",
       "      <td>0.006899</td>\n",
       "      <td>0.119</td>\n",
       "      <td>3.673</td>\n",
       "      <td>-0.895</td>\n",
       "      <td>7.100</td>\n",
       "      <td>0.202</td>\n",
       "      <td>0.057</td>\n",
       "    </tr>\n",
       "  </tbody>\n",
       "</table>\n",
       "</div>"
      ],
      "text/plain": [
       "    Birthplace  Immigration  GDP_Change  LE_Change  IF_Change  UE_Change  \\\n",
       "0  Afghanistan     0.051661      -0.407      1.156     -0.805      5.929   \n",
       "1      Armenia     0.005132       0.434     -1.132     -0.811     -0.296   \n",
       "2      Austria     0.001900       0.043      0.210     -0.534      0.059   \n",
       "3   Azerbaijan     0.004612      -0.251     -3.116     -0.668      0.380   \n",
       "4      Belarus     0.006899       0.119      3.673     -0.895      7.100   \n",
       "\n",
       "   HE_Change  ED_Change  \n",
       "0      0.547     -0.174  \n",
       "1      0.209     -0.139  \n",
       "2      0.041     -0.093  \n",
       "3      0.651      0.779  \n",
       "4      0.202      0.057  "
      ]
     },
     "execution_count": 23,
     "metadata": {},
     "output_type": "execute_result"
    }
   ],
   "source": [
    "nor = normalize([dataset['Immigration']])\n",
    "dataset['Immigration'] = nor[0][:]\n",
    "dataset.head()"
   ]
  },
  {
   "cell_type": "code",
   "execution_count": 24,
   "metadata": {
    "pycharm": {
     "name": "#%%\n"
    }
   },
   "outputs": [
    {
     "data": {
      "text/plain": [
       "Birthplace      object\n",
       "Immigration    float64\n",
       "GDP_Change     float64\n",
       "LE_Change      float64\n",
       "IF_Change      float64\n",
       "UE_Change      float64\n",
       "HE_Change      float64\n",
       "ED_Change      float64\n",
       "dtype: object"
      ]
     },
     "execution_count": 24,
     "metadata": {},
     "output_type": "execute_result"
    }
   ],
   "source": [
    "dataset.dtypes"
   ]
  },
  {
   "cell_type": "code",
   "execution_count": 42,
   "metadata": {
    "pycharm": {
     "name": "#%%\n"
    }
   },
   "outputs": [
    {
     "data": {
      "image/png": "[encoded data removed]",
      "text/plain": [
       "<Figure size 640x480 with 1 Axes>"
      ]
     },
     "metadata": {},
     "output_type": "display_data"
    }
   ],
   "source": [
    "X = pd.DataFrame({'Immigration':nor[0][:], 'GDP':c}).to_numpy()\n",
    "y_pred = KMeans(n_clusters=3, random_state=0, n_init=10).fit_predict(X)\n",
    "y_pred\n",
    "\n",
    "plt.scatter(X[y_pred==0, 0], X[y_pred==0, 1], s=100, c='red', label ='Cluster 1')\n",
    "plt.scatter(X[y_pred==1, 0], X[y_pred==1, 1], s=100, c='blue', label ='Cluster 2')\n",
    "plt.scatter(X[y_pred==2, 0], X[y_pred==2, 1], s=100, c='green', label ='Cluster 3')\n",
    "plt.show()"
   ]
  },
  {
   "cell_type": "code",
   "execution_count": 91,
   "metadata": {
    "pycharm": {
     "name": "#%%\n"
    }
   },
   "outputs": [
    {
     "ename": "InvalidIndexError",
     "evalue": "(array([ True,  True,  True,  True,  True,  True,  True,  True,  True,\n       False,  True,  True,  True,  True,  True,  True,  True,  True,\n        True,  True,  True,  True,  True,  True,  True,  True,  True,\n        True,  True,  True,  True,  True,  True,  True,  True,  True,\n        True,  True,  True,  True,  True,  True,  True,  True,  True,\n        True,  True,  True, False,  True,  True,  True,  True,  True,\n        True,  True,  True,  True,  True,  True,  True,  True,  True,\n        True,  True,  True]), 0)",
     "output_type": "error",
     "traceback": [
      "\u001b[1;31m---------------------------------------------------------------------------\u001b[0m",
      "\u001b[1;31mTypeError\u001b[0m                                 Traceback (most recent call last)",
      "File \u001b[1;32m~\\PycharmProjects\\CanadianImmigrationStudy\\venv\\lib\\site-packages\\pandas\\core\\indexes\\base.py:3802\u001b[0m, in \u001b[0;36mIndex.get_loc\u001b[1;34m(self, key, method, tolerance)\u001b[0m\n\u001b[0;32m   3801\u001b[0m \u001b[38;5;28;01mtry\u001b[39;00m:\n\u001b[1;32m-> 3802\u001b[0m     \u001b[38;5;28;01mreturn\u001b[39;00m \u001b[38;5;28;43mself\u001b[39;49m\u001b[38;5;241;43m.\u001b[39;49m\u001b[43m_engine\u001b[49m\u001b[38;5;241;43m.\u001b[39;49m\u001b[43mget_loc\u001b[49m\u001b[43m(\u001b[49m\u001b[43mcasted_key\u001b[49m\u001b[43m)\u001b[49m\n\u001b[0;32m   3803\u001b[0m \u001b[38;5;28;01mexcept\u001b[39;00m \u001b[38;5;167;01mKeyError\u001b[39;00m \u001b[38;5;28;01mas\u001b[39;00m err:\n",
      "File \u001b[1;32m~\\PycharmProjects\\CanadianImmigrationStudy\\venv\\lib\\site-packages\\pandas\\_libs\\index.pyx:138\u001b[0m, in \u001b[0;36mpandas._libs.index.IndexEngine.get_loc\u001b[1;34m()\u001b[0m\n",
      "File \u001b[1;32m~\\PycharmProjects\\CanadianImmigrationStudy\\venv\\lib\\site-packages\\pandas\\_libs\\index.pyx:144\u001b[0m, in \u001b[0;36mpandas._libs.index.IndexEngine.get_loc\u001b[1;34m()\u001b[0m\n",
      "\u001b[1;31mTypeError\u001b[0m: '(array([ True,  True,  True,  True,  True,  True,  True,  True,  True,\n       False,  True,  True,  True,  True,  True,  True,  True,  True,\n        True,  True,  True,  True,  True,  True,  True,  True,  True,\n        True,  True,  True,  True,  True,  True,  True,  True,  True,\n        True,  True,  True,  True,  True,  True,  True,  True,  True,\n        True,  True,  True, False,  True,  True,  True,  True,  True,\n        True,  True,  True,  True,  True,  True,  True,  True,  True,\n        True,  True,  True]), 0)' is an invalid key",
      "\nDuring handling of the above exception, another exception occurred:\n",
      "\u001b[1;31mInvalidIndexError\u001b[0m                         Traceback (most recent call last)",
      "Cell \u001b[1;32mIn[91], line 10\u001b[0m\n\u001b[0;32m      5\u001b[0m y_pred \u001b[38;5;241m=\u001b[39m KMeans(n_clusters\u001b[38;5;241m=\u001b[39m\u001b[38;5;241m3\u001b[39m, random_state\u001b[38;5;241m=\u001b[39m\u001b[38;5;241m0\u001b[39m, n_init\u001b[38;5;241m=\u001b[39m\u001b[38;5;241m10\u001b[39m)\u001b[38;5;241m.\u001b[39mfit_predict(X)\n\u001b[0;32m      6\u001b[0m \u001b[38;5;66;03m# plt.scatter(X[:,0], X[:,1], c=y_pred)\u001b[39;00m\n\u001b[0;32m      7\u001b[0m \u001b[38;5;66;03m# plt.show()\u001b[39;00m\n\u001b[0;32m      8\u001b[0m \u001b[38;5;66;03m#print(a, y_pred)\u001b[39;00m\n\u001b[0;32m      9\u001b[0m \u001b[38;5;66;03m# y = cluster.fit_predict(X)\u001b[39;00m\n\u001b[1;32m---> 10\u001b[0m plt\u001b[38;5;241m.\u001b[39mscatter(\u001b[43mX\u001b[49m\u001b[43m[\u001b[49m\u001b[43my_pred\u001b[49m\u001b[38;5;241;43m==\u001b[39;49m\u001b[38;5;241;43m0\u001b[39;49m\u001b[43m,\u001b[49m\u001b[43m \u001b[49m\u001b[38;5;241;43m0\u001b[39;49m\u001b[43m]\u001b[49m, X[y_pred\u001b[38;5;241m==\u001b[39m\u001b[38;5;241m0\u001b[39m, \u001b[38;5;241m1\u001b[39m], s\u001b[38;5;241m=\u001b[39m\u001b[38;5;241m100\u001b[39m, c\u001b[38;5;241m=\u001b[39m\u001b[38;5;124m'\u001b[39m\u001b[38;5;124mred\u001b[39m\u001b[38;5;124m'\u001b[39m, label \u001b[38;5;241m=\u001b[39m\u001b[38;5;124m'\u001b[39m\u001b[38;5;124mCluster 1\u001b[39m\u001b[38;5;124m'\u001b[39m)\n\u001b[0;32m     11\u001b[0m \u001b[38;5;66;03m# plt.scatter(X[y==1, 0], X[y==1, 1], s=100, c='blue', label ='Cluster 2')\u001b[39;00m\n\u001b[0;32m     12\u001b[0m \u001b[38;5;66;03m# plt.scatter(X[y==2, 0], X[y==2, 1], s=100, c='green', label ='Cluster 3')\u001b[39;00m\n\u001b[0;32m     13\u001b[0m \u001b[38;5;66;03m#\u001b[39;00m\n\u001b[1;32m   (...)\u001b[0m\n\u001b[0;32m     16\u001b[0m \u001b[38;5;66;03m# plt.xlabel('1')\u001b[39;00m\n\u001b[0;32m     17\u001b[0m \u001b[38;5;66;03m# plt.ylabel('2')\u001b[39;00m\n\u001b[0;32m     18\u001b[0m plt\u001b[38;5;241m.\u001b[39mshow()\n",
      "File \u001b[1;32m~\\PycharmProjects\\CanadianImmigrationStudy\\venv\\lib\\site-packages\\pandas\\core\\frame.py:3807\u001b[0m, in \u001b[0;36mDataFrame.__getitem__\u001b[1;34m(self, key)\u001b[0m\n\u001b[0;32m   3805\u001b[0m \u001b[38;5;28;01mif\u001b[39;00m \u001b[38;5;28mself\u001b[39m\u001b[38;5;241m.\u001b[39mcolumns\u001b[38;5;241m.\u001b[39mnlevels \u001b[38;5;241m>\u001b[39m \u001b[38;5;241m1\u001b[39m:\n\u001b[0;32m   3806\u001b[0m     \u001b[38;5;28;01mreturn\u001b[39;00m \u001b[38;5;28mself\u001b[39m\u001b[38;5;241m.\u001b[39m_getitem_multilevel(key)\n\u001b[1;32m-> 3807\u001b[0m indexer \u001b[38;5;241m=\u001b[39m \u001b[38;5;28;43mself\u001b[39;49m\u001b[38;5;241;43m.\u001b[39;49m\u001b[43mcolumns\u001b[49m\u001b[38;5;241;43m.\u001b[39;49m\u001b[43mget_loc\u001b[49m\u001b[43m(\u001b[49m\u001b[43mkey\u001b[49m\u001b[43m)\u001b[49m\n\u001b[0;32m   3808\u001b[0m \u001b[38;5;28;01mif\u001b[39;00m is_integer(indexer):\n\u001b[0;32m   3809\u001b[0m     indexer \u001b[38;5;241m=\u001b[39m [indexer]\n",
      "File \u001b[1;32m~\\PycharmProjects\\CanadianImmigrationStudy\\venv\\lib\\site-packages\\pandas\\core\\indexes\\base.py:3809\u001b[0m, in \u001b[0;36mIndex.get_loc\u001b[1;34m(self, key, method, tolerance)\u001b[0m\n\u001b[0;32m   3804\u001b[0m         \u001b[38;5;28;01mraise\u001b[39;00m \u001b[38;5;167;01mKeyError\u001b[39;00m(key) \u001b[38;5;28;01mfrom\u001b[39;00m \u001b[38;5;21;01merr\u001b[39;00m\n\u001b[0;32m   3805\u001b[0m     \u001b[38;5;28;01mexcept\u001b[39;00m \u001b[38;5;167;01mTypeError\u001b[39;00m:\n\u001b[0;32m   3806\u001b[0m         \u001b[38;5;66;03m# If we have a listlike key, _check_indexing_error will raise\u001b[39;00m\n\u001b[0;32m   3807\u001b[0m         \u001b[38;5;66;03m#  InvalidIndexError. Otherwise we fall through and re-raise\u001b[39;00m\n\u001b[0;32m   3808\u001b[0m         \u001b[38;5;66;03m#  the TypeError.\u001b[39;00m\n\u001b[1;32m-> 3809\u001b[0m         \u001b[38;5;28;43mself\u001b[39;49m\u001b[38;5;241;43m.\u001b[39;49m\u001b[43m_check_indexing_error\u001b[49m\u001b[43m(\u001b[49m\u001b[43mkey\u001b[49m\u001b[43m)\u001b[49m\n\u001b[0;32m   3810\u001b[0m         \u001b[38;5;28;01mraise\u001b[39;00m\n\u001b[0;32m   3812\u001b[0m \u001b[38;5;66;03m# GH#42269\u001b[39;00m\n",
      "File \u001b[1;32m~\\PycharmProjects\\CanadianImmigrationStudy\\venv\\lib\\site-packages\\pandas\\core\\indexes\\base.py:5925\u001b[0m, in \u001b[0;36mIndex._check_indexing_error\u001b[1;34m(self, key)\u001b[0m\n\u001b[0;32m   5921\u001b[0m \u001b[38;5;28;01mdef\u001b[39;00m \u001b[38;5;21m_check_indexing_error\u001b[39m(\u001b[38;5;28mself\u001b[39m, key):\n\u001b[0;32m   5922\u001b[0m     \u001b[38;5;28;01mif\u001b[39;00m \u001b[38;5;129;01mnot\u001b[39;00m is_scalar(key):\n\u001b[0;32m   5923\u001b[0m         \u001b[38;5;66;03m# if key is not a scalar, directly raise an error (the code below\u001b[39;00m\n\u001b[0;32m   5924\u001b[0m         \u001b[38;5;66;03m# would convert to numpy arrays and raise later any way) - GH29926\u001b[39;00m\n\u001b[1;32m-> 5925\u001b[0m         \u001b[38;5;28;01mraise\u001b[39;00m InvalidIndexError(key)\n",
      "\u001b[1;31mInvalidIndexError\u001b[0m: (array([ True,  True,  True,  True,  True,  True,  True,  True,  True,\n       False,  True,  True,  True,  True,  True,  True,  True,  True,\n        True,  True,  True,  True,  True,  True,  True,  True,  True,\n        True,  True,  True,  True,  True,  True,  True,  True,  True,\n        True,  True,  True,  True,  True,  True,  True,  True,  True,\n        True,  True,  True, False,  True,  True,  True,  True,  True,\n        True,  True,  True,  True,  True,  True,  True,  True,  True,\n        True,  True,  True]), 0)"
     ]
    }
   ],
   "source": [
    "#X = pd.DataFrame(dataset[['Immigration', 'GDP_Change', 'LE_Change']])\n",
    "#\n",
    "X = pd.DataFrame({'Immigration':b, 'GDP_Change':c, 'LE_Change':d, 'IF_Change': e})\n",
    "\n",
    "y_pred = KMeans(n_clusters=3, random_state=0, n_init=10).fit_predict(X)\n",
    "# plt.scatter(X[:,0], X[:,1], c=y_pred)\n",
    "# plt.show()\n",
    "#print(a, y_pred)\n",
    "# y = cluster.fit_predict(X)\n",
    "#plt.scatter(X[y_pred==0, 0], X[y_pred==0, 1], s=100, c='red', label ='Cluster 1')\n",
    "# plt.scatter(X[y==1, 0], X[y==1, 1], s=100, c='blue', label ='Cluster 2')\n",
    "# plt.scatter(X[y==2, 0], X[y==2, 1], s=100, c='green', label ='Cluster 3')\n",
    "#\n",
    "# plt.scatter(cluster.cluster_centers_[:, 0], cluster.cluster_centers_[:, 1], s=300, c='yellow', label = 'Centroids')\n",
    "# plt.title('Clusters')\n",
    "# plt.xlabel('1')\n",
    "# plt.ylabel('2')\n",
    "#plt.show()"
   ]
  },
  {
   "cell_type": "code",
   "execution_count": null,
   "metadata": {
    "pycharm": {
     "name": "#%%\n"
    }
   },
   "outputs": [],
   "source": []
  }
 ],
 "metadata": {
  "kernelspec": {
   "display_name": "Python 3 (ipykernel)",
   "language": "python",
   "name": "python3"
  },
  "language_info": {
   "codemirror_mode": {
    "name": "ipython",
    "version": 3
   },
   "file_extension": ".py",
   "mimetype": "text/x-python",
   "name": "python",
   "nbconvert_exporter": "python",
   "pygments_lexer": "ipython3",
   "version": "3.9.13"
  }
 },
 "nbformat": 4,
 "nbformat_minor": 1
}
